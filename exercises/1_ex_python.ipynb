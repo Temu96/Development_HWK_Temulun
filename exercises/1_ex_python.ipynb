{
  "cells": [
    {
      "cell_type": "markdown",
      "metadata": {
        "id": "54wtoMtAi7Gh"
      },
      "source": [
        "[![Open In Colab](https://colab.research.google.com/assets/colab-badge.svg)](https://colab.research.google.com/github/Humboldt-WI/bads/blob/master/exercises/1_ex_python.ipynb) "
      ]
    },
    {
      "cell_type": "markdown",
      "metadata": {
        "id": "T9YxfvC5i7G1"
      },
      "source": [
        "# BADS Exercise 1 on Python programming\n",
        "We covered a lot of concepts in the first [demo notebook on Python programming](https://github.com/Humboldt-WI/bads/blob/master/demo_notebooks/1_nb_python_intro.ipynb). Solving the exercises allows you to test your familiarity with these concepts.  "
      ]
    },
    {
      "cell_type": "markdown",
      "metadata": {
        "id": "jOV4cL2fi7G6"
      },
      "source": [
        "## Variables, assignments, and comparisons"
      ]
    },
    {
      "cell_type": "code",
      "source": [
        "import numpy as np\n"
      ],
      "metadata": {
        "id": "BPhgOXs6mqR4"
      },
      "execution_count": null,
      "outputs": []
    },
    {
      "cell_type": "markdown",
      "metadata": {
        "id": "GVnt7nXki7G9"
      },
      "source": [
        "1. Create two variables $a$ and $b$ and assign values of $3$ and $4.5$."
      ]
    },
    {
      "cell_type": "code",
      "execution_count": 2,
      "metadata": {
        "colab": {
          "base_uri": "https://localhost:8080/"
        },
        "id": "Q1-BHMHHi7G_",
        "outputId": "41b7c01e-ea34-4151-83bc-b426fc625100"
      },
      "outputs": [
        {
          "output_type": "stream",
          "name": "stdout",
          "text": [
            "3\n"
          ]
        }
      ],
      "source": [
        "a = 3; b = 4.5\n",
        "print(a) \n",
        "# in jupyter notebook it should work by just typing a?"
      ]
    },
    {
      "cell_type": "markdown",
      "metadata": {
        "id": "tmcPqcPSi7HC"
      },
      "source": [
        "2. Query the type of variable $a$."
      ]
    },
    {
      "cell_type": "code",
      "source": [
        "type(a)"
      ],
      "metadata": {
        "id": "N7ba9l2wkV2l",
        "outputId": "6cebb21f-7a83-450b-a60e-e71f026eecb5",
        "colab": {
          "base_uri": "https://localhost:8080/"
        }
      },
      "execution_count": 3,
      "outputs": [
        {
          "output_type": "execute_result",
          "data": {
            "text/plain": [
              "int"
            ]
          },
          "metadata": {},
          "execution_count": 3
        }
      ]
    },
    {
      "cell_type": "markdown",
      "metadata": {
        "id": "SeGZG4vJi7HE"
      },
      "source": [
        "3. Check whether variable $b$ is a text variable."
      ]
    },
    {
      "cell_type": "code",
      "execution_count": 4,
      "metadata": {
        "id": "RoYxIREli7HG",
        "outputId": "1571635b-6493-4f4a-a00d-4a3c30ffb43f",
        "colab": {
          "base_uri": "https://localhost:8080/"
        }
      },
      "outputs": [
        {
          "output_type": "execute_result",
          "data": {
            "text/plain": [
              "False"
            ]
          },
          "metadata": {},
          "execution_count": 4
        }
      ],
      "source": [
        "type(a) == str"
      ]
    },
    {
      "cell_type": "markdown",
      "metadata": {
        "id": "2zWWNOUyi7HL"
      },
      "source": [
        "4. Calculate $a^2 + \\frac{1}{b}$, $\\sqrt{a*b}$, and $log_2(a)$."
      ]
    },
    {
      "cell_type": "code",
      "execution_count": null,
      "metadata": {
        "id": "aybcnLXDi7HQ"
      },
      "outputs": [],
      "source": [
        "a ** 2 + 1/b\n",
        "pow(a,2)\n",
        "(a*b) ** (1/2)\n",
        "math.sqrt(a * b)\n",
        "math.log(a,2)\n",
        "math.log2(a)\n"
      ]
    },
    {
      "cell_type": "markdown",
      "metadata": {
        "id": "cwIPMSz5i7HS"
      },
      "source": [
        "## Matrix algebra\n",
        "Create three additional variables as follows:\n",
        "\n",
        " $$ A = \\left( \\begin{matrix} 1 & 2 & 3 \\\\ 4 & 5 & 6 \\\\ 7 & 8 & 10 \\end{matrix} \\right) \\quad\n",
        "  B = \\left( \\begin{matrix} 1 & 4 & 7 \\\\ 2 & 5 & 8 \\\\ 3 & 6 & 9 \\end{matrix} \\right)  \\quad\n",
        "  y = \\left( \\begin{matrix} 1 \\\\ 2 \\\\ 3 \\end{matrix} \\right) $$"
      ]
    },
    {
      "cell_type": "code",
      "execution_count": null,
      "metadata": {
        "id": "7IVaUcpLi7HU"
      },
      "outputs": [],
      "source": [
        "# Code to create variables A, B, and y\n",
        "A =[[1,2,3], [4,5,6], [7,8,10]]\n",
        "np.mat(A) # has more built in mat calculation functions\n",
        "np.array(A) #more flexible?\n",
        "\n"
      ]
    },
    {
      "cell_type": "markdown",
      "metadata": {
        "id": "_Gk5UCtRi7HZ"
      },
      "source": [
        "Perform the following operations. Note that mathematical operators like `*` might not behave in the way you need it. Wasn't there a powerful library for all sorts of numerical computations including classic linear algebra?\n",
        "\n",
        "Calculate  \n",
        "\n",
        "  1. $a*A$"
      ]
    },
    {
      "cell_type": "code",
      "execution_count": null,
      "metadata": {
        "id": "dZx9If27i7Hc"
      },
      "outputs": [],
      "source": []
    },
    {
      "cell_type": "markdown",
      "metadata": {
        "id": "bmUYmXcPi7Hd"
      },
      "source": [
        "  2. $A*B$"
      ]
    },
    {
      "cell_type": "code",
      "execution_count": null,
      "metadata": {
        "id": "0BKYhP4_i7He"
      },
      "outputs": [],
      "source": [
        "A @ B #matrix multiplication\n",
        "np.dot(A,B)"
      ]
    },
    {
      "cell_type": "markdown",
      "metadata": {
        "id": "odYbqG38i7He"
      },
      "source": [
        "  3. The inverse of matrix $A$ and store the result in a variable $invA$. Any ideas how to get Python to invert a matrix? Hint: NumPy is your friend.  "
      ]
    },
    {
      "cell_type": "code",
      "execution_count": null,
      "metadata": {
        "id": "eRkX68rmi7Hf"
      },
      "outputs": [],
      "source": [
        "invA = np.linalg.inv(A)"
      ]
    },
    {
      "cell_type": "markdown",
      "metadata": {
        "id": "3mw_0H9ei7Hg"
      },
      "source": [
        "  4. Multiply $A$ and $invA$ and verify that the result is the identity matrix (i.e. only 1s on the diagonal). You'll probably find that it isn't, because computers usually make very small rounding errors when handling real numbers. The reason is interesting, but you'll have to look it up if you're interested."
      ]
    },
    {
      "cell_type": "code",
      "execution_count": null,
      "metadata": {
        "id": "eO2uO6UOi7Hl"
      },
      "outputs": [],
      "source": []
    },
    {
      "cell_type": "markdown",
      "metadata": {
        "id": "Lx6KO96Li7Hm"
      },
      "source": [
        "  5. The transpose of matrix $B$"
      ]
    },
    {
      "cell_type": "code",
      "execution_count": null,
      "metadata": {
        "id": "LyYhsCqri7Hn"
      },
      "outputs": [],
      "source": []
    },
    {
      "cell_type": "markdown",
      "metadata": {
        "id": "1pM4vWDwi7Ho"
      },
      "source": [
        "  6. Fill the first row of matrix $B$ with ones"
      ]
    },
    {
      "cell_type": "code",
      "execution_count": null,
      "metadata": {
        "id": "e_VnKICZi7Ho"
      },
      "outputs": [],
      "source": []
    },
    {
      "cell_type": "markdown",
      "metadata": {
        "id": "ZcIsIH3_i7Hp"
      },
      "source": [
        "  7. Calculate the ordinary least squares estimator $\\beta$ (i.e. a standard regression) \n",
        "$$ \\beta = (A^{\\top}A)^{-1}A^{\\top} y $$ \n",
        "Run a web search for \"Python matrix transpose\" to get help on how to transpose a matrix. "
      ]
    },
    {
      "cell_type": "code",
      "execution_count": null,
      "metadata": {
        "id": "VJbtMs1Ai7Hq"
      },
      "outputs": [],
      "source": []
    },
    {
      "cell_type": "markdown",
      "metadata": {
        "id": "tty6uKRHi7Hr"
      },
      "source": [
        "## Indexing\n",
        "1. Look at values of variables $A$, $B$, and $y$ from the last exercise"
      ]
    },
    {
      "cell_type": "code",
      "execution_count": null,
      "metadata": {
        "id": "KJ2IfsU3i7Hs"
      },
      "outputs": [],
      "source": []
    },
    {
      "cell_type": "markdown",
      "metadata": {
        "id": "XzghAkAAi7Ht"
      },
      "source": [
        "2. Access the second element in the third row of $A$ and the first element in the second row of $B$, and compute their product"
      ]
    },
    {
      "cell_type": "code",
      "execution_count": null,
      "metadata": {
        "id": "iixDFt3-i7Hu"
      },
      "outputs": [],
      "source": []
    },
    {
      "cell_type": "markdown",
      "metadata": {
        "id": "pM_5baWJi7Hv"
      },
      "source": [
        "3. Multiply the first row of $A$ and the third column of $B$"
      ]
    },
    {
      "cell_type": "code",
      "execution_count": null,
      "metadata": {
        "id": "s4H8sjvQi7Hw"
      },
      "outputs": [],
      "source": []
    },
    {
      "cell_type": "markdown",
      "metadata": {
        "id": "FvT_N5wri7Hx"
      },
      "source": [
        "4. Access the elements of y that are greater than 1 (without looking up their position manually)"
      ]
    },
    {
      "cell_type": "code",
      "execution_count": null,
      "metadata": {
        "id": "MoIJxJWLi7Hz"
      },
      "outputs": [],
      "source": []
    },
    {
      "cell_type": "markdown",
      "metadata": {
        "id": "J_PAW0s9i7Hz"
      },
      "source": [
        "5. Access the elements of A in the second column, for which the values in the first column are greater or equal to 4."
      ]
    },
    {
      "cell_type": "code",
      "execution_count": null,
      "metadata": {
        "id": "x2O3xJd5i7H2"
      },
      "outputs": [],
      "source": []
    },
    {
      "cell_type": "markdown",
      "metadata": {
        "id": "iznI5F_Ui7H4"
      },
      "source": [
        "6. Access the 4th row of A. If this returns an error message, use Google to investigate the problem and find out what went wrong."
      ]
    },
    {
      "cell_type": "code",
      "execution_count": null,
      "metadata": {
        "id": "dzN8oEUEi7H5"
      },
      "outputs": [],
      "source": []
    },
    {
      "cell_type": "markdown",
      "metadata": {
        "id": "s5Vgn2pYi7H5"
      },
      "source": [
        "## Custom functions\n",
        "For many statistical applications it is practical to standardize variable values. One way to standardize is *centering and scaling*. In simple words, we make the variables comparable by reducing them to the same scale.\n",
        "\n",
        "Start with implementing a custom function. Your function should take an argument **x**. To keep things simple, we expect x to always be a numeric vector (and not text or a matrix, for example). In the body of the function, calculate the mean and standard deviation of **x**. Store the results in variables  **mu** and **std**, respectively. Then for each element in the vector, substract the mean and divide by the standard deviation.\n",
        "$$ x_{new} = \\frac{x-\\mu}{std}$$\n",
        "Make sure your functions **returns** the standardized vector (i.e., $x_new$ in the equation) as result. You might want to import `NumPy` for calculating the mean and standard deviation."
      ]
    },
    {
      "cell_type": "code",
      "execution_count": null,
      "metadata": {
        "id": "UC6D5qImi7H7"
      },
      "outputs": [],
      "source": []
    },
    {
      "cell_type": "markdown",
      "metadata": {
        "id": "URtvigVBi7H7"
      },
      "source": [
        "You should always test your functions. Create a vector **a** with the elements (-100, -25, -10, 0, 10, 25, 100) and check if your function produces the correct result.     "
      ]
    },
    {
      "cell_type": "markdown",
      "metadata": {
        "id": "7cWfsXkBi7H8"
      },
      "source": [
        "*Optional*: Create a vector **b** with elements (\"1\", \"2\", \"3\") and check the function. Let's include a simple check in the function and give feedback. Before doing any calculations, use `if()` and `type()` to check if the input is a numeric vector. There are many ways to code the condition *x is numeric* in Python. Run a quick web search and use a simple approach. If the input is not numeric, skip the computations and print a message \"input not numeric\"."
      ]
    },
    {
      "cell_type": "code",
      "execution_count": null,
      "metadata": {
        "id": "QUv6CSqai7H9"
      },
      "outputs": [],
      "source": []
    },
    {
      "cell_type": "markdown",
      "metadata": {
        "id": "P5DTp_I1i7H-"
      },
      "source": [
        "## Data structures \n",
        "Say you want to keep track of the members of the four houses of the famous Hogwarts School of Witchcraft and Wizardry. What might be a suitable data structure? We create a dictionary named **hogwarts** and use the names of the houses as keys. Then, the values associated with those keys could be any type that supports storing a set of strings, i.e., to store the names of house members. Draw on your knowledge of Python dictionaries and lists to implement such a data structure. Populate the dictionary with the following data, and feel free to add more characters if you wish. \n",
        "\n",
        "- Gryffindor: I'm sure you know many members of that house \n",
        "- Hufflepuff: notable members include Newt Scamander, Cedric Diggory and Nymphadora Tonks\n",
        "- Ravenclaw: here we've got, e.g. Luna Lovegood, Gilderoy Lockhart and Filius Flitwick\n",
        "- Slytherin: Draco Malfoy, Vincent Crabbe, Gregory Goyle, and of course the one that must not be named"
      ]
    },
    {
      "cell_type": "code",
      "execution_count": null,
      "metadata": {
        "id": "gkPK6rCEi7H_"
      },
      "outputs": [],
      "source": []
    },
    {
      "cell_type": "markdown",
      "metadata": {
        "id": "Aox2JDU8i7IA"
      },
      "source": [
        "Dictionaries are really useful. Still our above data structure is limited. We can only store the name of a witch or wizard. Wouldn't it be cool to be able to store more information, something like her/his favored charm, best friend, pet, etc. \n",
        "\n",
        "Think about how we could realize this functionality. Well, we could create yet another dictionary in which we use a witches's/wizard's name as key and as value some some other data structure in which we can store all the details we like. To our knowledge, the names of witches / wizards are unique in the Harry Potter universe, so that names could serve as (unique) keys; nerd alert. Still a dictionary of dictionaries sounds pretty complicated. In fact, the task we described above is a perfect use case for a custom class. Custom classes  allow us to store any piece of information about a person at one place. Furthermore, they would allow us to implement functions that process this information. So here is your next task:\n",
        "\n",
        "Create a custom class wizard that facilitates storing the following properties\n",
        "- First name\n",
        "- Last name\n",
        "- Pet\n",
        "- Pet name\n",
        "- Patronus shape\n",
        "\n",
        "\n",
        "Also implement a method `tell_pet()`that prints an output of the following format:\n",
        "*\"Harry Potter's owl is called Hedwig.\"* <br> Note how the output makes use of information on the first and last name of the wizard and other pieces of information.\n",
        "\n",
        "Implement one more  method `expecto_patronum()`. Calling that method for Harry would produce the output (print):\n",
        "*\"A stag appears.\"*"
      ]
    },
    {
      "cell_type": "code",
      "execution_count": null,
      "metadata": {
        "id": "IG_nku9Gi7IC"
      },
      "outputs": [],
      "source": []
    },
    {
      "cell_type": "markdown",
      "metadata": {
        "id": "VgypAJkci7ID"
      },
      "source": [
        "Update your dictionary with schools and their members. Instead of storing a list of names as values, your new dictionary should store a list of instances of the class wizard. Note that you need to create these instances first. So you need to create an instance of class wizard for Harry, another one for Ron, Malfoy, etc. In case your knowledge of the Potter universe is a bit shaky, just invent the data you need. Just in case, [here is a little refresher of the expecto patronum spell](https://www.insider.com/harry-potter-characters-patronus-2018-11)."
      ]
    },
    {
      "cell_type": "code",
      "execution_count": null,
      "metadata": {
        "id": "ews0cnKii7IE"
      },
      "outputs": [],
      "source": []
    },
    {
      "cell_type": "markdown",
      "metadata": {
        "id": "M_-f2W9oi7IF"
      },
      "source": [
        "## Well done!!!"
      ]
    }
  ],
  "metadata": {
    "kernelspec": {
      "display_name": "Python 3 (ipykernel)",
      "language": "python",
      "name": "python3"
    },
    "language_info": {
      "codemirror_mode": {
        "name": "ipython",
        "version": 3
      },
      "file_extension": ".py",
      "mimetype": "text/x-python",
      "name": "python",
      "nbconvert_exporter": "python",
      "pygments_lexer": "ipython3",
      "version": "3.9.13"
    },
    "vscode": {
      "interpreter": {
        "hash": "7404b008718a1ed27952f98edf9d8ba4a2b1845773bd899cb9440c90ced0e116"
      }
    },
    "colab": {
      "provenance": []
    }
  },
  "nbformat": 4,
  "nbformat_minor": 0
}